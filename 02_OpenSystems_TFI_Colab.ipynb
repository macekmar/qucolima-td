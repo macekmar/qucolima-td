{
 "cells": [
  {
   "cell_type": "code",
   "execution_count": 9,
   "metadata": {},
   "outputs": [],
   "source": [
    "# NetKet\n",
    "import netket as nk\n",
    "\n",
    "# json for saving and reading log files\n",
    "import json\n",
    "\n",
    "# Jax and Flax\n",
    "import jax\n",
    "import jax.numpy as jnp\n",
    "import flax.linen as nn\n",
    "\n",
    "# Numpy and matplotlib\n",
    "import numpy as np\n",
    "import matplotlib.pyplot as plt\n",
    "\n",
    "\n",
    "from scipy.sparse.linalg import eigsh\n"
   ]
  },
  {
   "cell_type": "markdown",
   "metadata": {},
   "source": [
    "The Lindblad master equation that is encoded in the Liouvillian is:\n",
    "\n",
    "$$\n",
    "\\mathcal{L} = -i \\left[ \\hat{H}, \\hat{\\rho}\\right] + \\sum_i \\left[ \\hat{L}_i\\hat{\\rho}\\hat{L}_i^\\dagger -\n",
    "    \\left\\{ \\hat{L}_i^\\dagger\\hat{L}_i, \\hat{\\rho} \\right\\} \\right]\n",
    "$$\n",
    "\n",
    "$L_i$ are jump operators\n",
    "\n",
    "We will be studying 1D transverse field Ising model\n",
    "$$\n",
    "H = -h \\sum_i \\sigma_i^x - J \\sum_{⟨i,j⟩} \\sigma_i^z \\sigma_j^z\n",
    "$$\n",
    "with $L_i = \\sigma_i^-$ jump operators."
   ]
  },
  {
   "cell_type": "markdown",
   "metadata": {},
   "source": [
    "For theory see papers:\n",
    "This ansatz, original paper and applied to quantum tomography:\n",
    "- G. Torlai and R. G. Melko, Phys. Rev. Lett. 120, 240503 (2018).\n",
    "Applied to VMC:\n",
    "- F. Vicentini, A. Biella, N. Regnault, and C. Ciuti, Phys. Rev. Lett. 122, 250503 (2019).\n",
    "- N. Yoshioka and R. Hamazaki, Phys. Rev. B 99, 214306 (2019).\n",
    "- A. Nagy and V. Savona, Phys. Rev. Lett. 122, 250501 (2019).\n",
    "- M. J. Hartmann and G. Carleo, Phys. Rev. Lett. 122, 250502 (2019).\n",
    "\n",
    "Better ansatz:\n",
    "- F. Vicentini, R. Rossi, and G. Carleo, (2022).\n"
   ]
  },
  {
   "cell_type": "code",
   "execution_count": 18,
   "metadata": {},
   "outputs": [],
   "source": [
    "N = 6\n",
    "g = nk.graph.Chain(length=N, pbc=True)\n",
    "hi = nk.hilbert.Spin(s=1/2, N=g.n_nodes)\n",
    "\n",
    "h = 1/8\n",
    "\n",
    "ham = nk.operator.Ising(hi, graph=g, h=h, J=-1/4)\n",
    "jump_ops = [nk.operator.spin.sigmam(hi, i) for i in range(N)]\n",
    "lind = nk.operator.LocalLiouvillian(ham, jump_ops)\n"
   ]
  },
  {
   "cell_type": "markdown",
   "metadata": {},
   "source": [
    "## Exact diagonalization"
   ]
  },
  {
   "cell_type": "markdown",
   "metadata": {},
   "source": [
    "Operator $\\hat{L}$ is in vectorized space.\n",
    "The row-stacked, matrix-representation of the Liouvillian is then given by the following formula:\n",
    "$$\n",
    "\\hat{\\mathcal{L}} = -i \\hat{H}_{nh} \\otimes \\hat{I} + i \\hat{I} \\otimes \\hat{H}_{nh}^\\star + \\sum_i  \\hat{L}_i\\otimes\\hat{L}_i^\\star\n",
    "$$\n",
    "where\n",
    "$$\n",
    "\\hat{H}_{nh} = \\hat{H} - \\sum_i \\frac{i}{2}\\hat{L}_i^\\dagger\\hat{L}_i\n",
    "$$\n",
    "\n",
    "$\\hat{L}$ is now a matrix of size $2^{2N} \\times 2^{2N}$, whereas $\\rho$ is a vector but such vector that its matrix representation follows the property of density matrices (e.g. be careful with normalization!)."
   ]
  },
  {
   "cell_type": "code",
   "execution_count": 19,
   "metadata": {},
   "outputs": [
    {
     "name": "stdout",
     "output_type": "stream",
     "text": [
      "(4096, 4096)\n"
     ]
    }
   ],
   "source": [
    "# Extract ρ in steady state\n",
    "Lmat = lind.to_sparse()\n",
    "print(Lmat.shape)\n"
   ]
  },
  {
   "cell_type": "markdown",
   "metadata": {},
   "source": [
    "How should we do exact diagonalization?"
   ]
  },
  {
   "cell_type": "markdown",
   "metadata": {},
   "source": [
    "What is the purity?"
   ]
  },
  {
   "cell_type": "code",
   "execution_count": 42,
   "metadata": {},
   "outputs": [
    {
     "data": {
      "text/plain": [
       "(0.9960534908725468+1.6059120865301493e-15j)"
      ]
     },
     "execution_count": 42,
     "metadata": {},
     "output_type": "execute_result"
    }
   ],
   "source": [
    "np.trace(rho0@rho0)\n"
   ]
  },
  {
   "cell_type": "markdown",
   "metadata": {},
   "source": [
    "#### NetKet's optimization"
   ]
  },
  {
   "cell_type": "markdown",
   "metadata": {},
   "source": [
    "As we have seen, NetKet vectorizes $\\mathcal{L}$.\n",
    "It stores two Hilbert spaces."
   ]
  },
  {
   "cell_type": "code",
   "execution_count": 43,
   "metadata": {},
   "outputs": [
    {
     "name": "stdout",
     "output_type": "stream",
     "text": [
      "DoubledHilbert(Spin(s=1/2, N=6))\n",
      "Spin(s=1/2, N=6)\n"
     ]
    }
   ],
   "source": [
    "print(lind.hilbert)\n",
    "print(lind.hilbert_physical)\n"
   ]
  },
  {
   "cell_type": "markdown",
   "metadata": {},
   "source": [
    "When we are doing MC, we treat $\\rho$ as a vector with variable $[\\sigma; \\sigma']$.\n",
    "Thus we define Markov chain walk in the doubled Hilbert space."
   ]
  },
  {
   "cell_type": "code",
   "execution_count": 44,
   "metadata": {},
   "outputs": [],
   "source": [
    "sampler = nk.sampler.MetropolisLocal(lind.hilbert)\n",
    "# Stochastic gradient descen\n",
    "optimizer = nk.optimizer.Sgd(0.05)\n",
    "# Stochastic reconfiguration - quantum geometric tensor\n",
    "sr = nk.optimizer.SR(diag_shift=0.01)\n"
   ]
  },
  {
   "cell_type": "code",
   "execution_count": 45,
   "metadata": {},
   "outputs": [],
   "source": [
    "# So far the only model in NetKet\n",
    "model = nk.models.NDM(alpha=1, beta=4/N)\n",
    "\n",
    "vqs = nk.vqs.MCMixedState(sampler, model, n_samples=512, n_samples_diag=1024)\n",
    "vqs.init_parameters(jax.nn.initializers.normal(stddev=0.01))\n",
    "ss = nk.SteadyState(lind, optimizer, variational_state=vqs, preconditioner=sr)\n"
   ]
  },
  {
   "cell_type": "code",
   "execution_count": 46,
   "metadata": {},
   "outputs": [
    {
     "name": "stdout",
     "output_type": "stream",
     "text": [
      "No output specified (out=[apath|nk.logging.JsonLogger(...)]).Running the optimization but not saving the output.\n"
     ]
    },
    {
     "name": "stderr",
     "output_type": "stream",
     "text": [
      "100%|██████████| 500/500 [00:21<00:00, 22.88it/s, LdagL=0.000053 ± 0.000011 [σ²=0.000000, R̂=1.0251]]   \n"
     ]
    },
    {
     "data": {
      "text/plain": [
       "()"
      ]
     },
     "execution_count": 46,
     "metadata": {},
     "output_type": "execute_result"
    }
   ],
   "source": [
    "ss.run(n_iter=500)\n"
   ]
  },
  {
   "cell_type": "code",
   "execution_count": 50,
   "metadata": {},
   "outputs": [
    {
     "name": "stdout",
     "output_type": "stream",
     "text": [
      "Model's rank: 16 vs true 63\n",
      "Purity: (0.9801354556693965+0j) vs (0.9960534908725468+1.6059120865301493e-15j)\n"
     ]
    },
    {
     "data": {
      "image/png": "[encoded data removed]",
      "text/plain": [
       "<Figure size 640x480 with 1 Axes>"
      ]
     },
     "metadata": {},
     "output_type": "display_data"
    }
   ],
   "source": [
    "vqs_rho = vqs.to_matrix()\n",
    "plt.plot(np.abs(vqs_rho.reshape(-1)))\n",
    "plt.plot(np.abs(rho0.reshape(-1)))\n",
    "# plt.plot(np.abs(vqs_rho.reshape(-1) - rho0.reshape(-1)))\n",
    "print(\"Model's rank:\", np.linalg.matrix_rank(vqs_rho) ,\"vs true\", np.linalg.matrix_rank(rho0))\n",
    "print(\"Purity:\", np.trace(vqs_rho@vqs_rho), \"vs\", np.trace(rho0@rho0))\n"
   ]
  },
  {
   "cell_type": "code",
   "execution_count": 55,
   "metadata": {},
   "outputs": [
    {
     "data": {
      "text/plain": [
       "[<matplotlib.lines.Line2D at 0x154279fc0>]"
      ]
     },
     "execution_count": 55,
     "metadata": {},
     "output_type": "execute_result"
    },
    {
     "data": {
      "image/png": "[encoded data removed]",
      "text/plain": [
       "<Figure size 640x480 with 1 Axes>"
      ]
     },
     "metadata": {},
     "output_type": "display_data"
    }
   ],
   "source": [
    "u,s,v = np.linalg.svd(rho0)\n",
    "plt.semilogy(s)\n",
    "u,s,v = np.linalg.svd(vqs_rho)\n",
    "plt.semilogy(s)\n"
   ]
  },
  {
   "cell_type": "markdown",
   "metadata": {},
   "source": [
    "## More mixed state"
   ]
  },
  {
   "cell_type": "markdown",
   "metadata": {},
   "source": [
    "Redo the equations with $h=1/3$.\n",
    "How does parameter $\\alpha$ and $\\beta$ affect the precision?"
   ]
  },
  {
   "cell_type": "code",
   "execution_count": 57,
   "metadata": {},
   "outputs": [
    {
     "name": "stdout",
     "output_type": "stream",
     "text": [
      "4.670499334398404e-16\n",
      "(0.800942100971405-3.271037954388767e-16j)\n"
     ]
    },
    {
     "data": {
      "text/plain": [
       "[<matplotlib.lines.Line2D at 0x153c52b60>]"
      ]
     },
     "execution_count": 57,
     "metadata": {},
     "output_type": "execute_result"
    },
    {
     "data": {
      "image/png": "[encoded data removed]",
      "text/plain": [
       "<Figure size 640x480 with 1 Axes>"
      ]
     },
     "metadata": {},
     "output_type": "display_data"
    }
   ],
   "source": [
    "N = 6\n",
    "g = nk.graph.Chain(length=N, pbc=True)\n",
    "hi = nk.hilbert.Spin(s=1/2, N=g.n_nodes)\n",
    "\n",
    "h = 1/3\n",
    "\n",
    "ham = nk.operator.Ising(hi, graph=g, h=h, J=-1/4)\n",
    "jump_ops = [nk.operator.spin.sigmam(hi, i) for i in range(N)]\n",
    "lind = nk.operator.LocalLiouvillian(ham, jump_ops)\n",
    "Lmat = lind.to_sparse()\n",
    "\n",
    "eigval, eigvecs = eigsh(Lmat, k=2, which=\"SM\")\n",
    "# Lowest eigenvalue in magnitude should be close to zero\n",
    "assert np.abs(eigval[0]) < 1e-10\n",
    "# The next eigenvalue should be considerably larger\n",
    "assert np.abs(eigval[0]/eigval[1]) < 1e-10\n",
    "\n",
    "# Determine the phase and normalize ρ\n",
    "rho0 = eigvecs[:, 0].reshape(2**N, 2**N)\n",
    "angles = np.angle(rho0.diagonal())\n",
    "assert (np.max(np.abs(angles-angles[0])) < 1e-10)  # global phase\n",
    "angle = angles[0]\n",
    "rho0 *= np.exp(-angle*1j)\n",
    "rho0.diagonal()\n",
    "rho0 /= rho0.trace()\n",
    "# In the steady-state dρ/dt = L.ρ 0\n",
    "assert np.max(np.abs(Lmat@rho0.reshape(2**(2*N), 1))) < 1e-10\n",
    "\n",
    "# L·ρ should be small\n",
    "print(np.max(np.abs(Lmat@np.reshape(rho0, np.prod(rho0.shape)))))\n",
    "\n",
    "# Purity\n",
    "print(np.trace(rho0@rho0))\n",
    "\n",
    "# Rank\n",
    "u, s, v = np.linalg.svd(rho0)\n",
    "plt.semilogy(s)\n"
   ]
  },
  {
   "cell_type": "code",
   "execution_count": 58,
   "metadata": {},
   "outputs": [],
   "source": [
    "sampler = nk.sampler.MetropolisLocal(lind.hilbert)\n",
    "# Stochastic gradient descen\n",
    "optimizer = nk.optimizer.Sgd(0.05)\n",
    "# Stochastic reconfiguration - quantum geometric tensor\n",
    "sr = nk.optimizer.SR(diag_shift=0.01)\n"
   ]
  },
  {
   "cell_type": "code",
   "execution_count": null,
   "metadata": {},
   "outputs": [],
   "source": []
  }
 ],
 "metadata": {
  "kernelspec": {
   "display_name": "HeisPic",
   "language": "python",
   "name": "heispic"
  },
  "language_info": {
   "codemirror_mode": {
    "name": "ipython",
    "version": 3
   },
   "file_extension": ".py",
   "mimetype": "text/x-python",
   "name": "python",
   "nbconvert_exporter": "python",
   "pygments_lexer": "ipython3",
   "version": "3.10.12"
  }
 },
 "nbformat": 4,
 "nbformat_minor": 2
}
