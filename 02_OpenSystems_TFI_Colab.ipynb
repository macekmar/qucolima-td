{
 "cells": [
  {
   "cell_type": "code",
   "execution_count": 2,
   "metadata": {},
   "outputs": [
    {
     "name": "stderr",
     "output_type": "stream",
     "text": [
      "WARNING: All log messages before absl::InitializeLog() is called are written to STDERR\n",
      "I0000 00:00:1701264847.037866       1 tfrt_cpu_pjrt_client.cc:349] TfrtCpuClient created.\n"
     ]
    }
   ],
   "source": [
    "# NetKet\n",
    "import netket as nk\n",
    "\n",
    "# json for saving and reading log files\n",
    "import json\n",
    "\n",
    "# Jax and Flax\n",
    "import jax\n",
    "import jax.numpy as jnp\n",
    "import flax.linen as nn\n",
    "\n",
    "# Numpy and matplotlib\n",
    "import numpy as np\n",
    "import matplotlib.pyplot as plt\n",
    "\n",
    "\n",
    "from scipy.sparse.linalg import eigsh\n"
   ]
  },
  {
   "cell_type": "markdown",
   "metadata": {},
   "source": [
    "The Lindblad master equation that is encoded in the Liouvillian is:\n",
    "\n",
    "$$\n",
    "\\mathcal{L} = -i \\left[ \\hat{H}, \\hat{\\rho}\\right] + \\sum_i \\left[ \\hat{L}_i\\hat{\\rho}\\hat{L}_i^\\dagger -\n",
    "    \\left\\{ \\hat{L}_i^\\dagger\\hat{L}_i, \\hat{\\rho} \\right\\} \\right]\n",
    "$$\n",
    "\n",
    "$L_i$ are jump operators\n",
    "\n",
    "We will be studying 1D transverse field Ising model\n",
    "$$\n",
    "H = -h \\sum_i \\sigma_i^x - J \\sum_{⟨i,j⟩} \\sigma_i^z \\sigma_j^z\n",
    "$$\n",
    "with $L_i = \\sigma_i^-$ jump operators."
   ]
  },
  {
   "cell_type": "markdown",
   "metadata": {},
   "source": [
    "For theory see papers:\n",
    "This ansatz, original paper and applied to quantum tomography:\n",
    "- G. Torlai and R. G. Melko, Phys. Rev. Lett. 120, 240503 (2018).\n",
    "Applied to VMC:\n",
    "- F. Vicentini, A. Biella, N. Regnault, and C. Ciuti, Phys. Rev. Lett. 122, 250503 (2019).\n",
    "- N. Yoshioka and R. Hamazaki, Phys. Rev. B 99, 214306 (2019).\n",
    "- A. Nagy and V. Savona, Phys. Rev. Lett. 122, 250501 (2019).\n",
    "- M. J. Hartmann and G. Carleo, Phys. Rev. Lett. 122, 250502 (2019).\n",
    "\n",
    "Better ansatz:\n",
    "- F. Vicentini, R. Rossi, and G. Carleo, (2022).\n"
   ]
  },
  {
   "cell_type": "code",
   "execution_count": 3,
   "metadata": {},
   "outputs": [],
   "source": [
    "N = 4\n",
    "g = nk.graph.Chain(length=N, pbc=True)\n",
    "hi = nk.hilbert.Spin(s=1/2, N=g.n_nodes)\n",
    "\n",
    "h = 1/6\n",
    "\n",
    "ham = nk.operator.Ising(hi, graph=g, h=h, J=-1/4)\n",
    "jump_ops = [nk.operator.spin.sigmam(hi, i) for i in range(N)]\n",
    "lind = nk.operator.LocalLiouvillian(ham, jump_ops)\n"
   ]
  },
  {
   "cell_type": "markdown",
   "metadata": {},
   "source": [
    "## Exact diagonalization"
   ]
  },
  {
   "cell_type": "markdown",
   "metadata": {},
   "source": [
    "Operator $\\hat{L}$ is in vectorized space. \n",
    "\n",
    "The row-stacked, matrix-representation of the Liouvillian is then given by the following formula:\n",
    "\n",
    "$$\n",
    "\\hat{\\mathcal{L}} = -i \\hat{H}_{nh} \\otimes \\hat{I} + i \\hat{I} \\otimes \\hat{H}_{nh}^\\star + \\sum_i  \\hat{L}_i\\otimes\\hat{L}_i^\\star\n",
    "$$\n",
    "where\n",
    "$$\n",
    "\\hat{H}_{nh} = \\hat{H} - \\sum_i \\frac{i}{2}\\hat{L}_i^\\dagger\\hat{L}_i\n",
    "$$\n",
    "\n",
    "$\\hat{L}$ is now a matrix of size $2^{2N} \\times 2^{2N}$, whereas $\\rho$ is a vector but such vector that its matrix representation follows the property of density matrices (e.g. be careful with normalization!)."
   ]
  },
  {
   "cell_type": "code",
   "execution_count": 4,
   "metadata": {},
   "outputs": [
    {
     "name": "stdout",
     "output_type": "stream",
     "text": [
      "(256, 256)\n"
     ]
    }
   ],
   "source": [
    "# Extract ρ in steady state\n",
    "Lmat = lind.to_sparse()\n",
    "print(Lmat.shape)\n"
   ]
  },
  {
   "cell_type": "markdown",
   "metadata": {},
   "source": [
    "How should we do exact diagonalization?"
   ]
  },
  {
   "cell_type": "markdown",
   "metadata": {},
   "source": [
    "What is the purity?"
   ]
  },
  {
   "cell_type": "code",
   "execution_count": 5,
   "metadata": {},
   "outputs": [
    {
     "ename": "NameError",
     "evalue": "name 'rho0' is not defined",
     "output_type": "error",
     "traceback": [
      "\u001b[0;31m---------------------------------------------------------------------------\u001b[0m",
      "\u001b[0;31mNameError\u001b[0m                                 Traceback (most recent call last)",
      "\u001b[1;32m/Users/macek/Work/Teaching/NetKet_QuCoLiMa/Notebooks/02_OpenSystems_TFI_Colab.ipynb Cell 9\u001b[0m line \u001b[0;36m1\n\u001b[0;32m----> <a href='vscode-notebook-cell:/Users/macek/Work/Teaching/NetKet_QuCoLiMa/Notebooks/02_OpenSystems_TFI_Colab.ipynb#X13sZmlsZQ%3D%3D?line=0'>1</a>\u001b[0m np\u001b[39m.\u001b[39mtrace(rho0\u001b[39m@rho0\u001b[39m)\n",
      "\u001b[0;31mNameError\u001b[0m: name 'rho0' is not defined"
     ]
    }
   ],
   "source": [
    "np.trace(rho0@rho0)\n"
   ]
  },
  {
   "cell_type": "markdown",
   "metadata": {},
   "source": [
    "#### NetKet's optimization"
   ]
  },
  {
   "cell_type": "markdown",
   "metadata": {},
   "source": [
    "As we have seen, NetKet vectorizes $\\mathcal{L}$.\n",
    "It stores two Hilbert spaces."
   ]
  },
  {
   "cell_type": "code",
   "execution_count": 8,
   "metadata": {},
   "outputs": [
    {
     "name": "stdout",
     "output_type": "stream",
     "text": [
      "DoubledHilbert(Spin(s=1/2, N=4))\n",
      "Spin(s=1/2, N=4)\n"
     ]
    }
   ],
   "source": [
    "print(lind.hilbert)\n",
    "print(lind.hilbert_physical)\n"
   ]
  },
  {
   "cell_type": "markdown",
   "metadata": {},
   "source": [
    "When we are doing MC, we treat $\\rho$ as a vector with variable $[\\sigma; \\sigma']$.\n",
    "Thus we define Markov chain walk in the doubled Hilbert space."
   ]
  },
  {
   "cell_type": "code",
   "execution_count": 9,
   "metadata": {},
   "outputs": [],
   "source": [
    "sampler = nk.sampler.MetropolisLocal(lind.hilbert)\n",
    "# Stochastic gradient descen\n",
    "optimizer = nk.optimizer.Sgd(0.05)\n",
    "# Stochastic reconfiguration - quantum geometric tensor\n",
    "sr = nk.optimizer.SR(diag_shift=0.01)\n"
   ]
  },
  {
   "cell_type": "code",
   "execution_count": 10,
   "metadata": {},
   "outputs": [],
   "source": [
    "# So far the only model in NetKet\n",
    "model = nk.models.NDM(alpha=1, beta=4/N)\n",
    "\n",
    "vqs = nk.vqs.MCMixedState(sampler, model, n_samples=512, n_samples_diag=1024)\n",
    "vqs.init_parameters(jax.nn.initializers.normal(stddev=0.01))\n",
    "ss = nk.SteadyState(lind, optimizer, variational_state=vqs, preconditioner=sr)\n"
   ]
  },
  {
   "cell_type": "code",
   "execution_count": 11,
   "metadata": {},
   "outputs": [
    {
     "name": "stdout",
     "output_type": "stream",
     "text": [
      "No output specified (out=[apath|nk.logging.JsonLogger(...)]).Running the optimization but not saving the output.\n"
     ]
    },
    {
     "name": "stderr",
     "output_type": "stream",
     "text": [
      "100%|██████████| 500/500 [00:12<00:00, 39.33it/s, LdagL=0.0000157 ± 0.0000042 [σ²=0.0000000, R̂=1.0196]]   \n"
     ]
    },
    {
     "data": {
      "text/plain": [
       "()"
      ]
     },
     "execution_count": 11,
     "metadata": {},
     "output_type": "execute_result"
    }
   ],
   "source": [
    "ss.run(n_iter=500)\n"
   ]
  },
  {
   "cell_type": "code",
   "execution_count": 12,
   "metadata": {},
   "outputs": [
    {
     "name": "stdout",
     "output_type": "stream",
     "text": [
      "Model's rank: 16 vs true 16\n",
      "Purity: (0.9848741565223298+0j) vs (0.9914148734385808+2.6428798155842294e-16j)\n"
     ]
    },
    {
     "data": {
      "image/png": "[encoded data removed]",
      "text/plain": [
       "<Figure size 640x480 with 1 Axes>"
      ]
     },
     "metadata": {},
     "output_type": "display_data"
    }
   ],
   "source": [
    "vqs_rho = vqs.to_matrix()\n",
    "plt.plot(np.abs(vqs_rho.reshape(-1)))\n",
    "plt.plot(np.abs(rho0.reshape(-1)))\n",
    "print(\"Model's rank:\", np.linalg.matrix_rank(vqs_rho) ,\"vs true\", np.linalg.matrix_rank(rho0))\n",
    "print(\"Purity:\", np.trace(vqs_rho@vqs_rho), \"vs\", np.trace(rho0@rho0))\n"
   ]
  },
  {
   "cell_type": "markdown",
   "metadata": {},
   "source": [
    "## More mixed state"
   ]
  },
  {
   "cell_type": "markdown",
   "metadata": {},
   "source": [
    "Redo the equations with $h=1/3$.\n",
    "How does parameter $\\alpha$ and $\\beta$ affect the precision?"
   ]
  },
  {
   "cell_type": "code",
   "execution_count": 13,
   "metadata": {},
   "outputs": [
    {
     "name": "stdout",
     "output_type": "stream",
     "text": [
      "6.322291051830939e-16\n",
      "(0.8622791886092599+3.44098229290511e-16j)\n",
      "[9.27902234e-01 2.80144801e-02 1.28031999e-02 1.28031999e-02\n",
      " 1.25826171e-02 1.28771313e-03 1.06881934e-03 1.06881934e-03\n",
      " 8.47225772e-04 7.39033245e-04 6.60283224e-04 7.52114281e-05\n",
      " 5.12399461e-05 5.12399461e-05 4.36917235e-05 9.91936879e-07]\n"
     ]
    }
   ],
   "source": [
    "N = 4\n",
    "g = nk.graph.Chain(length=N, pbc=True)\n",
    "hi = nk.hilbert.Spin(s=1/2, N=g.n_nodes)\n",
    "\n",
    "h = 1/3\n",
    "\n",
    "ham = nk.operator.Ising(hi, graph=g, h=h, J=-1/4)\n",
    "jump_ops = [nk.operator.spin.sigmam(hi, i) for i in range(N)]\n",
    "lind = nk.operator.LocalLiouvillian(ham, jump_ops)\n",
    "Lmat = lind.to_sparse()\n",
    "\n",
    "eigval, eigvecs = eigsh(Lmat, k=2, which=\"SM\")\n",
    "# Lowest eigenvalue in magnitude should be close to zero\n",
    "assert np.abs(eigval[0]) < 1e-10\n",
    "# The next eigenvalue should be considerably larger\n",
    "assert np.abs(eigval[0]/eigval[1]) < 1e-10\n",
    "\n",
    "# Determine the phase and normalize ρ\n",
    "rho0 = eigvecs[:, 0].reshape(2**N, 2**N)\n",
    "angles = np.angle(rho0.diagonal())\n",
    "assert (np.max(np.abs(angles-angles[0])) < 1e-10)  # global phase\n",
    "angle = angles[0]\n",
    "rho0 *= np.exp(-angle*1j)\n",
    "rho0.diagonal()\n",
    "rho0 /= rho0.trace()\n",
    "# In the steady-state dρ/dt = L.ρ 0\n",
    "assert np.max(np.abs(Lmat@rho0.reshape(2**(2*N), 1))) < 1e-10\n",
    "\n",
    "# L·ρ should be small\n",
    "print(np.max(np.abs(Lmat@np.reshape(rho0, np.prod(rho0.shape)))))\n",
    "\n",
    "# Purity\n",
    "print(np.trace(rho0@rho0))\n",
    "\n",
    "# Rank\n",
    "u, s, v = np.linalg.svd(rho0)\n",
    "print(s)\n"
   ]
  }
 ],
 "metadata": {
  "kernelspec": {
   "display_name": "HeisPic",
   "language": "python",
   "name": "heispic"
  },
  "language_info": {
   "codemirror_mode": {
    "name": "ipython",
    "version": 3
   },
   "file_extension": ".py",
   "mimetype": "text/x-python",
   "name": "python",
   "nbconvert_exporter": "python",
   "pygments_lexer": "ipython3",
   "version": "3.10.13"
  }
 },
 "nbformat": 4,
 "nbformat_minor": 2
}
